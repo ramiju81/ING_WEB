{
  "cells": [
    {
      "cell_type": "code",
      "execution_count": 1,
      "metadata": {
        "colab": {
          "base_uri": "https://localhost:8080/"
        },
        "id": "0lMuc9qWzkM1",
        "outputId": "92786928-defe-49b2-ac74-576dbf4e57bd"
      },
      "outputs": [
        {
          "name": "stdout",
          "output_type": "stream",
          "text": [
            " *\n",
            "***\n"
          ]
        }
      ],
      "source": [
        "def figura_triangulo():\n",
        "    filas = int(input(\"¿Cuántas filas quieres en el triángulo? \"))\n",
        "    for i in range(1, filas + 1):\n",
        "        print(\" \" * (filas - i) + \"*\" * (2 * i - 1))\n",
        "\n",
        "figura_triangulo()"
      ]
    },
    {
      "cell_type": "code",
      "execution_count": 2,
      "metadata": {},
      "outputs": [
        {
          "name": "stdout",
          "output_type": "stream",
          "text": [
            "Requirement already satisfied: requests in c:\\users\\julir\\appdata\\local\\programs\\python\\python313\\lib\\site-packages (2.32.3)\n",
            "Requirement already satisfied: charset-normalizer<4,>=2 in c:\\users\\julir\\appdata\\local\\programs\\python\\python313\\lib\\site-packages (from requests) (3.4.1)\n",
            "Requirement already satisfied: idna<4,>=2.5 in c:\\users\\julir\\appdata\\local\\programs\\python\\python313\\lib\\site-packages (from requests) (3.10)\n",
            "Requirement already satisfied: urllib3<3,>=1.21.1 in c:\\users\\julir\\appdata\\local\\programs\\python\\python313\\lib\\site-packages (from requests) (2.3.0)\n",
            "Requirement already satisfied: certifi>=2017.4.17 in c:\\users\\julir\\appdata\\local\\programs\\python\\python313\\lib\\site-packages (from requests) (2025.1.31)\n"
          ]
        },
        {
          "name": "stderr",
          "output_type": "stream",
          "text": [
            "\n",
            "[notice] A new release of pip is available: 24.3.1 -> 25.0.1\n",
            "[notice] To update, run: python.exe -m pip install --upgrade pip\n"
          ]
        }
      ],
      "source": [
        "!pip install requests"
      ]
    },
    {
      "cell_type": "code",
      "execution_count": null,
      "metadata": {},
      "outputs": [
        {
          "name": "stdout",
          "output_type": "stream",
          "text": [
            "\n",
            "📍Latitud: 10.4001987\n",
            "📍Longitud: -75.5085254\n",
            "\n",
            "🌍 \u001b[1;32mCiudad:\u001b[0m Cartagena de Indias\n",
            "🌡️ \u001b[1;31mTemperatura actual:\u001b[0m 26.1°C\n",
            "💨 \u001b[1;34mVelocidad del viento:\u001b[0m 12.1 km/h\n",
            "☁️ \u001b[1;36mCondición climática:\u001b[0m Despejado\n",
            "\n",
            "📅 \u001b[1;35mPronóstico de temperatura por hora:\u001b[0m\n",
            "Hora 1: 27.5°C\n",
            "Hora 2: 27.0°C\n",
            "Hora 3: 26.8°C\n",
            "Hora 4: 26.6°C\n",
            "Hora 5: 26.4°C\n",
            "Hora 6: 26.2°C\n"
          ]
        }
      ],
      "source": [
        "#10.4001987\n",
        "#-75.5085254\n",
        "import requests\n",
        "\n",
        "def obtener_ciudad(latitud, longitud):\n",
        "    \"\"\"Obtiene el nombre de la ciudad usando OpenStreetMap (Nominatim).\"\"\"\n",
        "    url = f\"https://nominatim.openstreetmap.org/reverse?lat={latitud}&lon={longitud}&format=json\"\n",
        "    try:\n",
        "        response = requests.get(url, headers={'User-Agent': 'Mozilla/5.0'}, timeout=5)\n",
        "        response.raise_for_status()  # Lanza un error si la respuesta no es exitosa\n",
        "        data = response.json()\n",
        "        address = data.get(\"address\", {})\n",
        "        ciudad = address.get(\"city\") or address.get(\"town\") or address.get(\"village\") or \"Ciudad Desconocida\"\n",
        "        return ciudad\n",
        "    except requests.exceptions.RequestException as e:\n",
        "        print(\"❌ Error al obtener la ciudad:\", e)\n",
        "        return \"Ciudad Desconocida\"\n",
        "\n",
        "def obtener_clima(latitud, longitud):\n",
        "    \"\"\"Obtiene los datos del clima usando Open-Meteo.\"\"\"\n",
        "    url = f\"https://api.open-meteo.com/v1/forecast?latitude={latitud}&longitude={longitud}&current_weather=true&hourly=temperature_2m\"\n",
        "    try:\n",
        "        response = requests.get(url, timeout=5)\n",
        "        response.raise_for_status()\n",
        "        return response.json()\n",
        "    except requests.exceptions.RequestException as e:\n",
        "        print(\"❌ Error al obtener los datos del clima:\", e)\n",
        "        return None\n",
        "\n",
        "# Solicitar latitud y longitud al usuario\n",
        "latitud = input(\"\\033[1;35mIngrese la latitud:\\033[0m \")\n",
        "longitud = input(\"\\033[1;35mIngrese la longitud:\\033[0m \")\n",
        "\n",
        "# Obtener ciudad\n",
        "ciudad = obtener_ciudad(latitud, longitud)\n",
        "\n",
        "# Obtener clima\n",
        "clima_data = obtener_clima(latitud, longitud)\n",
        "\n",
        "if clima_data:\n",
        "    current_weather = clima_data[\"current_weather\"]\n",
        "    temperatura = current_weather[\"temperature\"]\n",
        "    velocidad_viento = current_weather[\"windspeed\"]\n",
        "    condicion = current_weather[\"weathercode\"]\n",
        "    temperaturas_horarias = clima_data[\"hourly\"][\"temperature_2m\"][:6]  # Primeras 6 horas\n",
        "\n",
        "    condiciones_climaticas = {\n",
        "        0: \"Despejado\", 1: \"Mayormente despejado\", 2: \"Parcialmente nublado\",\n",
        "        3: \"Nublado\", 45: \"Niebla\", 48: \"Niebla con escarcha\",\n",
        "        51: \"Llovizna ligera\", 53: \"Llovizna moderada\", 55: \"Llovizna densa\",\n",
        "        61: \"Lluvia ligera\", 63: \"Lluvia moderada\", 65: \"Lluvia intensa\",\n",
        "        71: \"Nieve ligera\", 73: \"Nieve moderada\", 75: \"Nieve intensa\",\n",
        "        80: \"Aguacero ligero\", 81: \"Aguacero moderado\", 82: \"Aguacero intenso\"\n",
        "    }\n",
        "\n",
        "    condicion_texto = condiciones_climaticas.get(condicion, \"Desconocida\")\n",
        "    print(f\"\\n📍Latitud: {latitud}\")\n",
        "    print(f\"📍Longitud: {longitud}\")\n",
        "    print(f\"\\n🌍 \\033[1;32mCiudad:\\033[0m {ciudad}\")  \n",
        "    print(f\"🌡️ \\033[1;31mTemperatura actual:\\033[0m {temperatura}°C\")  \n",
        "    print(f\"💨 \\033[1;34mVelocidad del viento:\\033[0m {velocidad_viento} km/h\")  \n",
        "    print(f\"☁️ \\033[1;36mCondición climática:\\033[0m {condicion_texto}\")  \n",
        "\n",
        "    print(\"\\n📅 \\033[1;35mPronóstico de temperatura por hora:\\033[0m\")\n",
        "    for i, temp in enumerate(temperaturas_horarias, start=1):\n",
        "        print(f\"Hora {i}: {temp}°C\")\n",
        "\n",
        "else:\n",
        "    print(\"❌ No se pudo obtener la información del clima.\")"
      ]
    },
    {
      "cell_type": "code",
      "execution_count": 18,
      "metadata": {},
      "outputs": [
        {
          "name": "stdout",
          "output_type": "stream",
          "text": [
            "\n",
            "📍Latitud: 6.2443677\n",
            "📍Longitud: -75.6636154\n",
            "\n",
            "🌍 \u001b[1;32mCiudad:\u001b[0m Medellín\n",
            "🌡️ \u001b[1;31mTemperatura actual:\u001b[0m 11.7°C\n",
            "💨 \u001b[1;34mVelocidad del viento:\u001b[0m 2.8 km/h\n",
            "☁️ \u001b[1;36mCondición climática:\u001b[0m Niebla\n",
            "\n",
            "📅 \u001b[1;35mPronóstico de temperatura por hora:\u001b[0m\n",
            "Hora 1: 14.1°C\n",
            "Hora 2: 13.4°C\n",
            "Hora 3: 13.2°C\n",
            "Hora 4: 12.6°C\n",
            "Hora 5: 12.3°C\n",
            "Hora 6: 12.0°C\n"
          ]
        }
      ],
      "source": [
        "# 6.2443677\n",
        "# -75.6636154\n",
        "import requests\n",
        "\n",
        "# Función para obtener la ciudad\n",
        "def obtener_ciudad(latitud, longitud):\n",
        "    url = f\"https://nominatim.openstreetmap.org/reverse?lat={latitud}&lon={longitud}&format=json\"\n",
        "    try:\n",
        "        response = requests.get(url, headers={'User-Agent': 'Mozilla/5.0'}, timeout=5)\n",
        "        response.raise_for_status()\n",
        "        data = response.json()\n",
        "        address = data.get(\"address\", {})\n",
        "        return address.get(\"city\") or address.get(\"town\") or address.get(\"village\") or \"Ciudad Desconocida\"\n",
        "    except requests.exceptions.RequestException:\n",
        "        return \"Ciudad Desconocida\"\n",
        "\n",
        "# Función para obtener el clima\n",
        "def obtener_clima(latitud, longitud):\n",
        "    url = f\"https://api.open-meteo.com/v1/forecast?latitude={latitud}&longitude={longitud}&current_weather=true&hourly=temperature_2m\"\n",
        "    try:\n",
        "        response = requests.get(url, timeout=5)\n",
        "        response.raise_for_status()\n",
        "        return response.json()\n",
        "    except requests.exceptions.RequestException:\n",
        "        return None\n",
        "\n",
        "# Solicitar latitud y longitud al usuario\n",
        "latitud = input(\"\\033[1;35mIngrese la latitud:\\033[0m \")\n",
        "longitud = input(\"\\033[1;35mIngrese la longitud:\\033[0m \")\n",
        "\n",
        "# Obtener ciudad y clima\n",
        "ciudad = obtener_ciudad(latitud, longitud)\n",
        "clima_data = obtener_clima(latitud, longitud)\n",
        "\n",
        "# Mostrar resultados\n",
        "if clima_data:\n",
        "    current_weather = clima_data[\"current_weather\"]\n",
        "    condiciones_climaticas = {\n",
        "        0: \"Despejado\", 1: \"Mayormente despejado\", 2: \"Parcialmente nublado\",\n",
        "        3: \"Nublado\", 45: \"Niebla\", 48: \"Niebla con escarcha\",\n",
        "        51: \"Llovizna ligera\", 53: \"Llovizna moderada\", 55: \"Llovizna densa\",\n",
        "        61: \"Lluvia ligera\", 63: \"Lluvia moderada\", 65: \"Lluvia intensa\",\n",
        "        71: \"Nieve ligera\", 73: \"Nieve moderada\", 75: \"Nieve intensa\",\n",
        "        80: \"Aguacero ligero\", 81: \"Aguacero moderado\", 82: \"Aguacero intenso\"\n",
        "    }\n",
        "    condicion_texto = condiciones_climaticas.get(current_weather[\"weathercode\"], \"Desconocida\")\n",
        "    print(f\"\\n📍Latitud: {latitud}\\n📍Longitud: {longitud}\\n\\n🌍 \\033[1;32mCiudad:\\033[0m {ciudad}\")\n",
        "    print(f\"🌡️ \\033[1;31mTemperatura actual:\\033[0m {current_weather['temperature']}°C\")\n",
        "    print(f\"💨 \\033[1;34mVelocidad del viento:\\033[0m {current_weather['windspeed']} km/h\")\n",
        "    print(f\"☁️ \\033[1;36mCondición climática:\\033[0m {condicion_texto}\")\n",
        "    print(\"\\n📅 \\033[1;35mPronóstico de temperatura por hora:\\033[0m\")\n",
        "    for i, temp in enumerate(clima_data[\"hourly\"][\"temperature_2m\"][:6], start=1):\n",
        "        print(f\"Hora {i}: {temp}°C\")\n",
        "else:\n",
        "    print(\"❌ No se pudo obtener la información del clima.\")"
      ]
    },
    {
      "cell_type": "code",
      "execution_count": 19,
      "metadata": {},
      "outputs": [
        {
          "name": "stdout",
          "output_type": "stream",
          "text": [
            "{\n",
            "    \"ubicacion\": {\n",
            "        \"ciudad\": \"Medellín\",\n",
            "        \"latitud\": \"6.2443677\",\n",
            "        \"longitud\": \"-75.6636154\"\n",
            "    },\n",
            "    \"clima_actual\": {\n",
            "        \"temperatura\": 26.1,\n",
            "        \"velocidad_viento\": 12.1,\n",
            "        \"condicion_climatica\": \"Niebla\"\n",
            "    },\n",
            "    \"pronostico_horas\": {\n",
            "        \"Hora 1\": 14.1,\n",
            "        \"Hora 2\": 13.4,\n",
            "        \"Hora 3\": 13.2,\n",
            "        \"Hora 4\": 12.6,\n",
            "        \"Hora 5\": 12.3,\n",
            "        \"Hora 6\": 12.0\n",
            "    }\n",
            "}\n"
          ]
        }
      ],
      "source": [
        "# Diccionario para almacenar la información del clima\n",
        "clima_info = {\n",
        "    \"ubicacion\": {\n",
        "        \"ciudad\": ciudad,\n",
        "        \"latitud\": latitud,\n",
        "        \"longitud\": longitud\n",
        "    },\n",
        "    \"clima_actual\": {\n",
        "        \"temperatura\": temperatura,\n",
        "        \"velocidad_viento\": velocidad_viento,\n",
        "        \"condicion_climatica\": condicion_texto\n",
        "    },\n",
        "    \"pronostico_horas\": {}\n",
        "}\n",
        "\n",
        "# Agregar el pronóstico de temperatura para las próximas 6 horas\n",
        "for i in range(6):\n",
        "    clima_info[\"pronostico_horas\"][f\"Hora {i+1}\"] = clima_data[\"hourly\"][\"temperature_2m\"][i]\n",
        "\n",
        "# Imprimir el diccionario de manera ordenada\n",
        "import json\n",
        "print(json.dumps(clima_info, indent=4, ensure_ascii=False))\n"
      ]
    },
    {
      "cell_type": "code",
      "execution_count": 8,
      "metadata": {},
      "outputs": [
        {
          "ename": "NameError",
          "evalue": "name 'latitud' is not defined",
          "output_type": "error",
          "traceback": [
            "\u001b[31m---------------------------------------------------------------------------\u001b[39m",
            "\u001b[31mNameError\u001b[39m                                 Traceback (most recent call last)",
            "\u001b[36mCell\u001b[39m\u001b[36m \u001b[39m\u001b[32mIn[8]\u001b[39m\u001b[32m, line 4\u001b[39m\n\u001b[32m      1\u001b[39m \u001b[38;5;66;03m# Diccionario para almacenar la información del clima\u001b[39;00m\n\u001b[32m      2\u001b[39m informacion_climatica  = {\n\u001b[32m      3\u001b[39m     \u001b[33m\"\u001b[39m\u001b[33mubicacion\u001b[39m\u001b[33m\"\u001b[39m: {\n\u001b[32m----> \u001b[39m\u001b[32m4\u001b[39m         \u001b[33m\"\u001b[39m\u001b[33mlatitud\u001b[39m\u001b[33m\"\u001b[39m: \u001b[43mlatitud\u001b[49m,\n\u001b[32m      5\u001b[39m         \u001b[33m\"\u001b[39m\u001b[33mlongitud\u001b[39m\u001b[33m\"\u001b[39m: longitud,\n\u001b[32m      6\u001b[39m         \u001b[33m\"\u001b[39m\u001b[33mciudad\u001b[39m\u001b[33m\"\u001b[39m: ciudad\n\u001b[32m      7\u001b[39m     },\n\u001b[32m      8\u001b[39m     \u001b[33m\"\u001b[39m\u001b[33mclima_actual\u001b[39m\u001b[33m\"\u001b[39m: {\n\u001b[32m      9\u001b[39m         \u001b[33m\"\u001b[39m\u001b[33mtemperatura\u001b[39m\u001b[33m\"\u001b[39m: temperatura,\n\u001b[32m     10\u001b[39m         \u001b[33m\"\u001b[39m\u001b[33mvelocidad_viento\u001b[39m\u001b[33m\"\u001b[39m: velocidad_viento,\n\u001b[32m     11\u001b[39m         \u001b[33m\"\u001b[39m\u001b[33mcondicion_climatica\u001b[39m\u001b[33m\"\u001b[39m: condicion_texto\n\u001b[32m     12\u001b[39m     },\n\u001b[32m     13\u001b[39m     \u001b[33m\"\u001b[39m\u001b[33mpronostico_horas\u001b[39m\u001b[33m\"\u001b[39m: {}\n\u001b[32m     14\u001b[39m }\n\u001b[32m     16\u001b[39m \u001b[38;5;66;03m# Agregar el pronóstico de temperatura para las próximas 6 horas\u001b[39;00m\n\u001b[32m     17\u001b[39m \u001b[38;5;28;01mfor\u001b[39;00m i \u001b[38;5;129;01min\u001b[39;00m \u001b[38;5;28mrange\u001b[39m(\u001b[32m6\u001b[39m):\n",
            "\u001b[31mNameError\u001b[39m: name 'latitud' is not defined"
          ]
        }
      ],
      "source": [
        "# Diccionario para almacenar la información del clima\n",
        "informacion_climatica  = {\n",
        "    \"ubicacion\": {\n",
        "        \"latitud\": latitud,\n",
        "        \"longitud\": longitud,\n",
        "        \"ciudad\": ciudad\n",
        "    },\n",
        "    \"clima_actual\": {\n",
        "        \"temperatura\": temperatura,\n",
        "        \"velocidad_viento\": velocidad_viento,\n",
        "        \"condicion_climatica\": condicion_texto\n",
        "    },\n",
        "    \"pronostico_horas\": {}\n",
        "}\n",
        "\n",
        "# Agregar el pronóstico de temperatura para las próximas 6 horas\n",
        "for i in range(6):\n",
        "    clima_info[\"pronostico_horas\"][f\"Hora {i+1}\"] = clima_data[\"hourly\"][\"temperature_2m\"][i]\n",
        "\n",
        "# Imprimir el diccionario de manera ordenada\n",
        "import json\n",
        "print(json.dumps(clima_info, indent=4, ensure_ascii=False))\n"
      ]
    }
  ],
  "metadata": {
    "colab": {
      "provenance": []
    },
    "kernelspec": {
      "display_name": "Python 3",
      "name": "python3"
    },
    "language_info": {
      "codemirror_mode": {
        "name": "ipython",
        "version": 3
      },
      "file_extension": ".py",
      "mimetype": "text/x-python",
      "name": "python",
      "nbconvert_exporter": "python",
      "pygments_lexer": "ipython3",
      "version": "3.13.2"
    }
  },
  "nbformat": 4,
  "nbformat_minor": 0
}
