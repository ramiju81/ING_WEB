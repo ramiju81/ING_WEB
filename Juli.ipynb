{
  "nbformat": 4,
  "nbformat_minor": 0,
  "metadata": {
    "colab": {
      "provenance": []
    },
    "kernelspec": {
      "name": "python3",
      "display_name": "Python 3"
    },
    "language_info": {
      "name": "python"
    }
  },
  "cells": [
    {
      "cell_type": "code",
      "execution_count": null,
      "metadata": {
        "id": "12hlCdywwWnV"
      },
      "outputs": [],
      "source": [
        "var1=\"Variable1\""
      ]
    },
    {
      "cell_type": "code",
      "source": [
        "var2=128"
      ],
      "metadata": {
        "id": "GuES08OPxUfj"
      },
      "execution_count": null,
      "outputs": []
    },
    {
      "cell_type": "code",
      "source": [
        "## start\n",
        "# 1\n",
        "## 2\n",
        "### 3\n",
        "#### 4"
      ],
      "metadata": {
        "id": "8rDhLJNhzsvJ"
      },
      "execution_count": null,
      "outputs": []
    },
    {
      "cell_type": "code",
      "source": [
        "var3=12.56"
      ],
      "metadata": {
        "id": "SvGvysuLxbmy"
      },
      "execution_count": null,
      "outputs": []
    },
    {
      "cell_type": "code",
      "source": [
        "var4 = [\"text1\", 128, 34.09, \"text3\"]"
      ],
      "metadata": {
        "id": "o0AhvYhezt21"
      },
      "execution_count": null,
      "outputs": []
    },
    {
      "cell_type": "code",
      "source": [
        "print(var4[-3])"
      ],
      "metadata": {
        "colab": {
          "base_uri": "https://localhost:8080/"
        },
        "id": "DC2QzxUv0j5F",
        "outputId": "79066faa-6ec1-4c21-e7f6-11454c3ec50b"
      },
      "execution_count": null,
      "outputs": [
        {
          "output_type": "stream",
          "name": "stdout",
          "text": [
            "128\n"
          ]
        }
      ]
    },
    {
      "cell_type": "code",
      "source": [
        "dic = {\"Key1\":\"value1\", \"Key2\":\"value2\"}"
      ],
      "metadata": {
        "id": "jqOxD3M71Fn9"
      },
      "execution_count": null,
      "outputs": []
    },
    {
      "cell_type": "code",
      "source": [
        "      dic = {\"Nombre\":\"Julian\",\n",
        "      \"Apellido\":\"Ramirez\",\n",
        "      \"Edad\":42,\n",
        "      \"Altura\":1.75}\n"
      ],
      "metadata": {
        "id": "nAdKUoptOikt"
      },
      "execution_count": null,
      "outputs": []
    },
    {
      "cell_type": "markdown",
      "source": [],
      "metadata": {
        "id": "HlETVODS140n"
      }
    },
    {
      "cell_type": "code",
      "source": [
        "dic_data = {\"Nombre\":\"Julian Alberto\", \"Apellido\":\"Ramirez Caicedo\", \"Semestre\":\"8vo\", \"Carrera\":\"Ingenieria de sistemas\", \"Ciudad\":\"Cali\", \"Pais\":\"Colombia\",}"
      ],
      "metadata": {
        "id": "wqVjRv4d1rRu"
      },
      "execution_count": null,
      "outputs": []
    },
    {
      "cell_type": "code",
      "source": [
        "print(dic_data)"
      ],
      "metadata": {
        "colab": {
          "base_uri": "https://localhost:8080/"
        },
        "id": "ElYXnwq32T6u",
        "outputId": "73656751-df4b-402e-d498-81a01145a595"
      },
      "execution_count": null,
      "outputs": [
        {
          "output_type": "stream",
          "name": "stdout",
          "text": [
            "{'Nombre': 'Julian Alberto', 'Apellido': 'Ramirez Caicedo', 'Semestre': '8vo', 'Carrera': 'Ingenieria de sistemas', 'Ciudad': 'Cali', 'Pais': 'Colombia'}\n"
          ]
        }
      ]
    },
    {
      "cell_type": "code",
      "source": [
        "dic.keys()"
      ],
      "metadata": {
        "colab": {
          "base_uri": "https://localhost:8080/"
        },
        "id": "SmBpOYH3O771",
        "outputId": "cb78f182-caaa-4c7c-d838-d8971460332d"
      },
      "execution_count": null,
      "outputs": [
        {
          "output_type": "execute_result",
          "data": {
            "text/plain": [
              "dict_keys(['Nombre', 'Apellido', 'Edad', 'Altura'])"
            ]
          },
          "metadata": {},
          "execution_count": 12
        }
      ]
    },
    {
      "cell_type": "code",
      "source": [
        "dic.values()\n"
      ],
      "metadata": {
        "colab": {
          "base_uri": "https://localhost:8080/"
        },
        "id": "3DGWEIqVPKag",
        "outputId": "6b5813d9-66c6-4f7a-fca0-2fd548e6a09a"
      },
      "execution_count": null,
      "outputs": [
        {
          "output_type": "execute_result",
          "data": {
            "text/plain": [
              "dict_values(['Julian', 'Ramirez', 42, 1.75])"
            ]
          },
          "metadata": {},
          "execution_count": 13
        }
      ]
    },
    {
      "cell_type": "code",
      "source": [
        "dic_Uni = {\"Nombre\":\"Julian Alberto\",\n",
        "            \"Apellido\":\"Ramirez Caicedo\",\n",
        "            \"Semestre\":\"8vo\",\n",
        "            \"Materia\":\"Desarollo de software\",\n",
        "            \"Carrera\":\"Ingenieria de sistemas\",\n",
        "            \"Universidad\":\"Unicuces\"\n",
        "            }\n",
        "print(dic_Uni)\n",
        "dic_Uni.values()"
      ],
      "metadata": {
        "colab": {
          "base_uri": "https://localhost:8080/"
        },
        "id": "afzaOttGPleI",
        "outputId": "b8e655f1-0f7c-48ab-e6ff-2127911889d5"
      },
      "execution_count": null,
      "outputs": [
        {
          "output_type": "stream",
          "name": "stdout",
          "text": [
            "{'Nombre': 'Julian Alberto', 'Apellido': 'Ramirez Caicedo', 'Semestre': '8vo', 'Materia': 'Desarollo de software', 'Carrera': 'Ingenieria de sistemas', 'Universidad': 'Unicuces'}\n"
          ]
        },
        {
          "output_type": "execute_result",
          "data": {
            "text/plain": [
              "dict_values(['Julian Alberto', 'Ramirez Caicedo', '8vo', 'Desarollo de software', 'Ingenieria de sistemas', 'Unicuces'])"
            ]
          },
          "metadata": {},
          "execution_count": 14
        }
      ]
    },
    {
      "cell_type": "code",
      "source": [
        "nom = ['J', 'u', 'l', 'i', 'a', 'n']\n",
        "for i in range(len(nom)):\n",
        "  print (nom[-i-1])"
      ],
      "metadata": {
        "colab": {
          "base_uri": "https://localhost:8080/"
        },
        "id": "4MuotrkOz4I3",
        "outputId": "9590ff60-3994-4013-bb04-81b05b98aa31"
      },
      "execution_count": null,
      "outputs": [
        {
          "output_type": "stream",
          "name": "stdout",
          "text": [
            "n\n",
            "a\n",
            "i\n",
            "l\n",
            "u\n",
            "J\n"
          ]
        }
      ]
    },
    {
      "cell_type": "code",
      "source": [
        "for i in range(5):\n",
        "  for j in range(5):\n",
        "    for k in range(5):\n",
        "      print (i,j,k)"
      ],
      "metadata": {
        "colab": {
          "base_uri": "https://localhost:8080/"
        },
        "collapsed": true,
        "id": "MNJqJL9CzdNv",
        "outputId": "47e2ab39-57eb-4c32-800b-51f8ea6263ca"
      },
      "execution_count": null,
      "outputs": [
        {
          "output_type": "stream",
          "name": "stdout",
          "text": [
            "0 0 0\n",
            "0 0 1\n",
            "0 0 2\n",
            "0 0 3\n",
            "0 0 4\n",
            "0 1 0\n",
            "0 1 1\n",
            "0 1 2\n",
            "0 1 3\n",
            "0 1 4\n",
            "0 2 0\n",
            "0 2 1\n",
            "0 2 2\n",
            "0 2 3\n",
            "0 2 4\n",
            "0 3 0\n",
            "0 3 1\n",
            "0 3 2\n",
            "0 3 3\n",
            "0 3 4\n",
            "0 4 0\n",
            "0 4 1\n",
            "0 4 2\n",
            "0 4 3\n",
            "0 4 4\n",
            "1 0 0\n",
            "1 0 1\n",
            "1 0 2\n",
            "1 0 3\n",
            "1 0 4\n",
            "1 1 0\n",
            "1 1 1\n",
            "1 1 2\n",
            "1 1 3\n",
            "1 1 4\n",
            "1 2 0\n",
            "1 2 1\n",
            "1 2 2\n",
            "1 2 3\n",
            "1 2 4\n",
            "1 3 0\n",
            "1 3 1\n",
            "1 3 2\n",
            "1 3 3\n",
            "1 3 4\n",
            "1 4 0\n",
            "1 4 1\n",
            "1 4 2\n",
            "1 4 3\n",
            "1 4 4\n",
            "2 0 0\n",
            "2 0 1\n",
            "2 0 2\n",
            "2 0 3\n",
            "2 0 4\n",
            "2 1 0\n",
            "2 1 1\n",
            "2 1 2\n",
            "2 1 3\n",
            "2 1 4\n",
            "2 2 0\n",
            "2 2 1\n",
            "2 2 2\n",
            "2 2 3\n",
            "2 2 4\n",
            "2 3 0\n",
            "2 3 1\n",
            "2 3 2\n",
            "2 3 3\n",
            "2 3 4\n",
            "2 4 0\n",
            "2 4 1\n",
            "2 4 2\n",
            "2 4 3\n",
            "2 4 4\n",
            "3 0 0\n",
            "3 0 1\n",
            "3 0 2\n",
            "3 0 3\n",
            "3 0 4\n",
            "3 1 0\n",
            "3 1 1\n",
            "3 1 2\n",
            "3 1 3\n",
            "3 1 4\n",
            "3 2 0\n",
            "3 2 1\n",
            "3 2 2\n",
            "3 2 3\n",
            "3 2 4\n",
            "3 3 0\n",
            "3 3 1\n",
            "3 3 2\n",
            "3 3 3\n",
            "3 3 4\n",
            "3 4 0\n",
            "3 4 1\n",
            "3 4 2\n",
            "3 4 3\n",
            "3 4 4\n",
            "4 0 0\n",
            "4 0 1\n",
            "4 0 2\n",
            "4 0 3\n",
            "4 0 4\n",
            "4 1 0\n",
            "4 1 1\n",
            "4 1 2\n",
            "4 1 3\n",
            "4 1 4\n",
            "4 2 0\n",
            "4 2 1\n",
            "4 2 2\n",
            "4 2 3\n",
            "4 2 4\n",
            "4 3 0\n",
            "4 3 1\n",
            "4 3 2\n",
            "4 3 3\n",
            "4 3 4\n",
            "4 4 0\n",
            "4 4 1\n",
            "4 4 2\n",
            "4 4 3\n",
            "4 4 4\n"
          ]
        }
      ]
    },
    {
      "cell_type": "code",
      "source": [
        "for i in range(5):\n",
        "  print (-i)"
      ],
      "metadata": {
        "id": "3E1D1ZH74chN",
        "colab": {
          "base_uri": "https://localhost:8080/"
        },
        "outputId": "64f8dbdc-00d1-4a37-bba4-0982be5cc0e1"
      },
      "execution_count": null,
      "outputs": [
        {
          "output_type": "stream",
          "name": "stdout",
          "text": [
            "0\n",
            "-1\n",
            "-2\n",
            "-3\n",
            "-4\n"
          ]
        }
      ]
    },
    {
      "cell_type": "code",
      "source": [
        "dic_user = {\"Nombre\":\"\",\"Apellido\":\"\",\"Edad\":0,\"Institucion\":\"\"}"
      ],
      "metadata": {
        "id": "zXoxRMDECxut"
      },
      "execution_count": null,
      "outputs": []
    },
    {
      "cell_type": "code",
      "source": [
        "var = input(\"Ingrese su nombre \")\n",
        "print(var)"
      ],
      "metadata": {
        "colab": {
          "base_uri": "https://localhost:8080/"
        },
        "id": "6M8JtP5pDdBM",
        "outputId": "e026214f-4855-4aa4-dbac-13f396be53c7"
      },
      "execution_count": null,
      "outputs": [
        {
          "output_type": "stream",
          "name": "stdout",
          "text": [
            "Ingrese su nombre Julian\n",
            "Julian\n"
          ]
        }
      ]
    },
    {
      "cell_type": "code",
      "source": [
        "var = input(\"Ingrese su nombre \")\n",
        "dic_user[\"Nombre\"] = var\n",
        "var = input(\"Ingrese su Apellido \")\n",
        "dic_user[\"Apellido\"] = var\n",
        "var = input(\"Ingrese su Edad \")\n",
        "dic_user[\"Edad\"] = var\n",
        "var = input(\"Ingrese Institución \")\n",
        "dic_user[\"Institucion\"] = var\n",
        "print(dic_user)"
      ],
      "metadata": {
        "colab": {
          "base_uri": "https://localhost:8080/"
        },
        "id": "pEsNhCctD1iP",
        "outputId": "7fcc9bca-e52d-4abe-890f-9cfd521cae04"
      },
      "execution_count": null,
      "outputs": [
        {
          "output_type": "stream",
          "name": "stdout",
          "text": [
            "Ingrese su nombre Julian\n",
            "Ingrese su Apellido Ramirez\n",
            "Ingrese su Edad 42\n",
            "Ingrese Institución Unicuces\n",
            "{'Nombre': 'Julian', 'Apellido': 'Ramirez', 'Edad': '42', 'Institucion': 'Unicuces'}\n"
          ]
        }
      ]
    },
    {
      "cell_type": "code",
      "source": [
        "dic_user = {\"Nombre\":\"\",\"Apellido\":\"\",\"Edad\":0,\"Institución\":\"\"}\n",
        "\n",
        "def llenar_dic_user():\n",
        "  dic_user_c = dic_user.copy()\n",
        "\n",
        "  var = input(\"Ingrese su nombre \")\n",
        "  dic_user_c[\"Nombre\"] = var\n",
        "  var = input(\"Ingrese su Apellido \")\n",
        "  dic_user_c[\"Apellido\"] = var\n",
        "  var = input(\"Ingrese su Edad \")\n",
        "  dic_user_c[\"Edad\"] = var\n",
        "  var = input(\"Ingrese Institución \")\n",
        "  dic_user_c[\"Institucion\"] = var\n",
        "  return dic_user_c\n"
      ],
      "metadata": {
        "id": "4ya_PYF2FeFR"
      },
      "execution_count": null,
      "outputs": []
    },
    {
      "cell_type": "code",
      "source": [
        "dic_return = llenar_dic_user()\n",
        "print(dic_return)"
      ],
      "metadata": {
        "colab": {
          "base_uri": "https://localhost:8080/"
        },
        "id": "YkY-5pYDGv6c",
        "outputId": "234359e9-0d55-4e12-e5e8-097937eca314"
      },
      "execution_count": null,
      "outputs": [
        {
          "output_type": "stream",
          "name": "stdout",
          "text": [
            "Ingrese su nombre Julian\n",
            "Ingrese su Apellido Ramirez\n",
            "Ingrese su Edad 42\n",
            "Ingrese Institución Unicuces\n",
            "{'Nombre': 'Julian', 'Apellido': 'Ramirez', 'Edad': '42', 'Institución': '', 'Institucion': 'Unicuces'}\n"
          ]
        }
      ]
    },
    {
      "cell_type": "code",
      "source": [
        "from re import U\n",
        "user = []\n",
        "for i in range(3):\n",
        "  result = llenar_dic_user()\n",
        "  user.extend([result])\n",
        "print(user)"
      ],
      "metadata": {
        "colab": {
          "base_uri": "https://localhost:8080/"
        },
        "id": "PTJAL6jzITtM",
        "outputId": "eb1f8008-ff0e-4b1f-857b-83cc5a4a9dbd"
      },
      "execution_count": null,
      "outputs": [
        {
          "output_type": "stream",
          "name": "stdout",
          "text": [
            "Ingrese su nombre Julian\n",
            "Ingrese su Apellido Ramirez\n",
            "Ingrese su Edad 42\n",
            "Ingrese Institución Unicuces\n",
            "Ingrese su nombre Gustavo\n",
            "Ingrese su Apellido Mondragon\n",
            "Ingrese su Edad 16\n",
            "Ingrese Institución Univalle\n",
            "Ingrese su nombre Anthony\n",
            "Ingrese su Apellido Trejos\n",
            "Ingrese su Edad 30\n",
            "Ingrese Institución Unilibre\n",
            "[{'Nombre': 'Julian', 'Apellido': 'Ramirez', 'Edad': '42', 'Institución': '', 'Institucion': 'Unicuces'}, {'Nombre': 'Gustavo', 'Apellido': 'Mondragon', 'Edad': '16', 'Institución': '', 'Institucion': 'Univalle'}, {'Nombre': 'Anthony', 'Apellido': 'Trejos', 'Edad': '30', 'Institución': '', 'Institucion': 'Unilibre'}]\n"
          ]
        }
      ]
    },
    {
      "cell_type": "code",
      "source": [
        "search = input(\"Ingrese el nombre a buscar \")\n",
        "#searchA = input(\"Ingrese el Apellido a buscar \")\n",
        "for i in range(len(user)):\n",
        "  nombre = user[i][\"Nombre\"]\n",
        "  apellido = user[i][\"Apellido\"]\n",
        "  print(i)\n",
        "  print(nombre)\n",
        "  print(apellido)\n",
        "  if search == nombre or search == apellido:\n",
        "    print(\"Encontrado\")\n",
        "  else:\n",
        "    print(\"No encontrado\")\n"
      ],
      "metadata": {
        "colab": {
          "base_uri": "https://localhost:8080/"
        },
        "id": "gAUBTrwdJfMp",
        "outputId": "9b874b31-77d0-4180-cfa8-db7c453f8178"
      },
      "execution_count": null,
      "outputs": [
        {
          "output_type": "stream",
          "name": "stdout",
          "text": [
            "Ingrese el nombre a buscar Anthony\n",
            "0\n",
            "Julian\n",
            "Ramirez\n",
            "No encontrado\n",
            "1\n",
            "Anthony\n",
            "Trejos\n",
            "Encontrado\n",
            "2\n",
            "Gustavo\n",
            "Mondragon\n",
            "No encontrado\n"
          ]
        }
      ]
    },
    {
      "cell_type": "code",
      "source": [
        "search_nombre = input(\"Ingrese el nombre a buscar \")\n",
        "search_apellido = input(\"Ingrese el Apellido a buscar \")\n",
        "search_edad = input(\"Ingrese la edad a buscar \")\n",
        "search_institucion = input(\"Ingrese la institucion a buscar \")\n",
        "for i in range(len(user)):\n",
        "  nombre = user[i][\"Nombre\"]\n",
        "  apellido = user[i][\"Apellido\"]\n",
        "  edad = user[i][\"Edad\"]\n",
        "  institucion = user[i][\"Institucion\"]\n",
        "  print(i)\n",
        "  print(nombre)\n",
        "  print(apellido)\n",
        "  print(edad)\n",
        "  print(institucion)\n",
        "  if search_nombre == nombre and search_apellido == apellido and search_edad == edad and search_institucion == institucion:\n",
        "    print(\"Encontrado\")\n",
        "  else:\n",
        "    print(\"No encontrado\")"
      ],
      "metadata": {
        "colab": {
          "base_uri": "https://localhost:8080/"
        },
        "id": "phNNmqmbRqSQ",
        "outputId": "dce5581d-6a94-49dc-c731-e3049baa8b3e"
      },
      "execution_count": null,
      "outputs": [
        {
          "output_type": "stream",
          "name": "stdout",
          "text": [
            "Ingrese el nombre a buscar Julian\n",
            "Ingrese el Apellido a buscar Ramirez\n",
            "Ingrese la edad a buscar 25\n",
            "Ingrese la institucion a buscar Unicuces\n",
            "0\n",
            "Julian\n",
            "Ramirez\n",
            "25\n",
            "Unicuces\n",
            "Encontrado\n",
            "1\n",
            "Anthony\n",
            "Gomez\n",
            "22\n",
            "Libre\n",
            "No encontrado\n",
            "2\n",
            "Gustavo\n",
            "Mondragon\n",
            "21\n",
            "Valle\n",
            "No encontrado\n"
          ]
        }
      ]
    },
    {
      "cell_type": "code",
      "source": [
        "search_nombre = input(\"Ingrese el nombre a buscar \")\n",
        "search_apellido = input(\"Ingrese el Apellido a buscar \")\n",
        "#search_edad = input(\"Ingrese la edad a buscar \")\n",
        "#search_institucion = input(\"Ingrese la institucion a buscar \")\n",
        "Flag = False\n",
        "for i in range(len(user)):\n",
        "  nombre = user[i][\"Nombre\"]\n",
        "  apellido = user[i][\"Apellido\"]\n",
        "  edad = int(user[i][\"Edad\"])\n",
        "  institucion = user[i][\"Institucion\"]\n",
        "  if search_nombre == nombre and search_apellido == apellido and edad > 24: #and search_edad == edad and search_institucion == institucion and edad > 24:\n",
        "    print(\" \")\n",
        "    Flag = True\n",
        "    print(i)\n",
        "    print(nombre)\n",
        "    print(apellido)\n",
        "    print(edad)\n",
        "    print(institucion)\n",
        "if Flag == True:\n",
        "    print(nombre, apellido, edad, institucion)\n",
        "else:\n",
        "  print(\"No encontrado o es menor de 18\")\n",
        "\n"
      ],
      "metadata": {
        "colab": {
          "base_uri": "https://localhost:8080/"
        },
        "id": "Xf6Mp9QrlMAr",
        "outputId": "b9e15b5e-87fe-417e-c49d-d029f10971ed"
      },
      "execution_count": null,
      "outputs": [
        {
          "output_type": "stream",
          "name": "stdout",
          "text": [
            "Ingrese el nombre a buscar Julian\n",
            "Ingrese el Apellido a buscar Ramirez\n",
            " \n",
            "0\n",
            "Julian\n",
            "Ramirez\n",
            "42\n",
            "Unicuces\n",
            "Anthony Trejos 30 Unilibre\n"
          ]
        }
      ]
    },
    {
      "cell_type": "code",
      "source": [
        "search_nombre = input(\"Ingrese el nombre a buscar \")\n",
        "\n",
        "for i in range(len(user)):\n",
        "  nombre = user[i][\"Nombre\"]\n",
        "  apellido = user[i][\"Apellido\"]\n",
        "  edad = int(user[i][\"Edad\"])\n",
        "  institucion = user[i][\"Institucion\"]\n",
        "\n",
        "  if search_nombre == nombre and edad > 24:\n",
        "    print(\" \")\n",
        "    print(nombre, apellido, edad, institucion)\n",
        "    break\n",
        " #   print(\"Encontrado\")\n",
        "    else:\n",
        "      print(\"Menor de 25 años\")\n",
        "#      print(\"No encontrado\")"
      ],
      "metadata": {
        "colab": {
          "base_uri": "https://localhost:8080/"
        },
        "id": "6yhkEqXd4s7B",
        "outputId": "63eabff3-5d4d-4beb-b390-27f78e45453b"
      },
      "execution_count": null,
      "outputs": [
        {
          "output_type": "stream",
          "name": "stdout",
          "text": [
            "Ingrese el nombre a buscar Julian\n",
            " \n",
            "Julian Ramirez 42 Unicuces\n",
            "Encontrado\n",
            "Menor de 25 años\n",
            "Menor de 25 años\n"
          ]
        }
      ]
    }
  ]
}