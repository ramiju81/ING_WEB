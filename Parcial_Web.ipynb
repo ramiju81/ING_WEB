{
  "cells": [
    {
      "cell_type": "code",
      "execution_count": 1,
      "metadata": {
        "colab": {
          "base_uri": "https://localhost:8080/"
        },
        "id": "0lMuc9qWzkM1",
        "outputId": "92786928-defe-49b2-ac74-576dbf4e57bd"
      },
      "outputs": [
        {
          "name": "stdout",
          "output_type": "stream",
          "text": [
            "     *\n",
            "    ***\n",
            "   *****\n",
            "  *******\n",
            " *********\n",
            "***********\n"
          ]
        }
      ],
      "source": [
        "def figura_triangulo():\n",
        "    filas = int(input(\"¿Cuántas filas quieres en el triángulo? \"))\n",
        "    for i in range(1, filas + 1):\n",
        "        print(\" \" * (filas - i) + \"*\" * (2 * i - 1))\n",
        "\n",
        "figura_triangulo()"
      ]
    },
    {
      "cell_type": "code",
      "execution_count": 2,
      "metadata": {},
      "outputs": [
        {
          "name": "stdout",
          "output_type": "stream",
          "text": [
            "Requirement already satisfied: requests in c:\\users\\julir\\appdata\\local\\programs\\python\\python313\\lib\\site-packages (2.32.3)\n",
            "Requirement already satisfied: charset-normalizer<4,>=2 in c:\\users\\julir\\appdata\\local\\programs\\python\\python313\\lib\\site-packages (from requests) (3.4.1)\n",
            "Requirement already satisfied: idna<4,>=2.5 in c:\\users\\julir\\appdata\\local\\programs\\python\\python313\\lib\\site-packages (from requests) (3.10)\n",
            "Requirement already satisfied: urllib3<3,>=1.21.1 in c:\\users\\julir\\appdata\\local\\programs\\python\\python313\\lib\\site-packages (from requests) (2.3.0)\n",
            "Requirement already satisfied: certifi>=2017.4.17 in c:\\users\\julir\\appdata\\local\\programs\\python\\python313\\lib\\site-packages (from requests) (2025.1.31)\n"
          ]
        },
        {
          "name": "stderr",
          "output_type": "stream",
          "text": [
            "\n",
            "[notice] A new release of pip is available: 24.3.1 -> 25.0.1\n",
            "[notice] To update, run: python.exe -m pip install --upgrade pip\n"
          ]
        }
      ],
      "source": [
        "!pip install requests"
      ]
    },
    {
      "cell_type": "code",
      "execution_count": 8,
      "metadata": {},
      "outputs": [
        {
          "name": "stdout",
          "output_type": "stream",
          "text": [
            "\n",
            "📍Latitud: 6.2443677\n",
            "📍Longitud: -75.5085254\n",
            "\n",
            "🌍 \u001b[1;32mCiudad:\u001b[0m Medellín\n",
            "🌡️ \u001b[1;31mTemperatura actual:\u001b[0m 13.3°C\n",
            "💨 \u001b[1;34mVelocidad del viento:\u001b[0m 4.2 km/h\n",
            "☁️ \u001b[1;36mCondición climática:\u001b[0m Aguacero ligero\n",
            "\n",
            "📅 \u001b[1;35mPronóstico de temperatura por hora:\u001b[0m\n",
            "Hora 1: 13.3°C\n",
            "Hora 2: 12.7°C\n",
            "Hora 3: 12.5°C\n",
            "Hora 4: 12.0°C\n",
            "Hora 5: 11.6°C\n",
            "Hora 6: 11.1°C\n"
          ]
        }
      ],
      "source": [
        "# 6.2443677\n",
        "# -75.6636154\n",
        "#10.4001987\n",
        "#-75.5085254\n",
        "import requests\n",
        "\n",
        "# Función para obtener la ciudad\n",
        "def obtener_ciudad(latitud, longitud):\n",
        "    url = f\"https://nominatim.openstreetmap.org/reverse?lat={latitud}&lon={longitud}&format=json\"\n",
        "    try:\n",
        "        response = requests.get(url, headers={'User-Agent': 'Mozilla/5.0'}, timeout=5)\n",
        "        response.raise_for_status()\n",
        "        data = response.json()\n",
        "        address = data.get(\"address\", {})\n",
        "        return address.get(\"city\") or address.get(\"town\") or address.get(\"village\") or \"Ciudad Desconocida\"\n",
        "    except requests.exceptions.RequestException:\n",
        "        return \"Ciudad Desconocida\"\n",
        "\n",
        "# Función para obtener el clima\n",
        "def obtener_clima(latitud, longitud):\n",
        "    url = f\"https://api.open-meteo.com/v1/forecast?latitude={latitud}&longitude={longitud}&current_weather=true&hourly=temperature_2m\"\n",
        "    try:\n",
        "        response = requests.get(url, timeout=5)\n",
        "        response.raise_for_status()\n",
        "        return response.json()\n",
        "    except requests.exceptions.RequestException:\n",
        "        return None\n",
        "\n",
        "# Solicitar latitud y longitud al usuario\n",
        "latitud = input(\"\\033[1;35mIngrese la latitud:\\033[0m \")\n",
        "longitud = input(\"\\033[1;35mIngrese la longitud:\\033[0m \")\n",
        "\n",
        "# Obtener ciudad y clima\n",
        "ciudad = obtener_ciudad(latitud, longitud)\n",
        "clima_data = obtener_clima(latitud, longitud)\n",
        "\n",
        "# Mostrar resultados\n",
        "if clima_data:\n",
        "    current_weather = clima_data[\"current_weather\"]\n",
        "    condiciones_climaticas = {\n",
        "        0: \"Despejado\", 1: \"Mayormente despejado\", 2: \"Parcialmente nublado\",\n",
        "        3: \"Nublado\", 45: \"Niebla\", 48: \"Niebla con escarcha\",\n",
        "        51: \"Llovizna ligera\", 53: \"Llovizna moderada\", 55: \"Llovizna densa\",\n",
        "        61: \"Lluvia ligera\", 63: \"Lluvia moderada\", 65: \"Lluvia intensa\",\n",
        "        71: \"Nieve ligera\", 73: \"Nieve moderada\", 75: \"Nieve intensa\",\n",
        "        80: \"Aguacero ligero\", 81: \"Aguacero moderado\", 82: \"Aguacero intenso\"\n",
        "    }\n",
        "    condicion_texto = condiciones_climaticas.get(current_weather[\"weathercode\"], \"Desconocida\")\n",
        "    print(f\"\\n📍Latitud: {latitud}\\n📍Longitud: {longitud}\\n\\n🌍 \\033[1;32mCiudad:\\033[0m {ciudad}\")\n",
        "    print(f\"🌡️ \\033[1;31mTemperatura actual:\\033[0m {current_weather['temperature']}°C\")\n",
        "    print(f\"💨 \\033[1;34mVelocidad del viento:\\033[0m {current_weather['windspeed']} km/h\")\n",
        "    print(f\"☁️ \\033[1;36mCondición climática:\\033[0m {condicion_texto}\")\n",
        "    print(\"\\n📅 \\033[1;35mPronóstico de temperatura por hora:\\033[0m\")\n",
        "    for i, temp in enumerate(clima_data[\"hourly\"][\"temperature_2m\"][:6], start=1):\n",
        "        print(f\"Hora {i}: {temp}°C\")\n",
        "else:\n",
        "    print(\"❌ No se pudo obtener la información del clima.\")"
      ]
    },
    {
      "cell_type": "code",
      "execution_count": 9,
      "metadata": {},
      "outputs": [
        {
          "name": "stdout",
          "output_type": "stream",
          "text": [
            "{\n",
            "    \"ubicacion\": {\n",
            "        \"ciudad\": \"Medellín\",\n",
            "        \"latitud\": \"6.2443677\",\n",
            "        \"longitud\": \"-75.5085254\"\n",
            "    },\n",
            "    \"clima_actual\": {\n",
            "        \"temperatura\": 27.2,\n",
            "        \"velocidad_viento\": 16.8,\n",
            "        \"condicion_climatica\": \"Aguacero ligero\"\n",
            "    },\n",
            "    \"pronostico_horas\": {\n",
            "        \"Hora 1\": 13.3,\n",
            "        \"Hora 2\": 12.7,\n",
            "        \"Hora 3\": 12.5,\n",
            "        \"Hora 4\": 12.0,\n",
            "        \"Hora 5\": 11.6,\n",
            "        \"Hora 6\": 11.1\n",
            "    }\n",
            "}\n"
          ]
        }
      ],
      "source": [
        "# Diccionario para almacenar la información del clima\n",
        "clima_info = {\n",
        "    \"ubicacion\": {\n",
        "        \"ciudad\": ciudad,\n",
        "        \"latitud\": latitud,\n",
        "        \"longitud\": longitud\n",
        "    },\n",
        "    \"clima_actual\": {\n",
        "        \"temperatura\": temperatura,\n",
        "        \"velocidad_viento\": velocidad_viento,\n",
        "        \"condicion_climatica\": condicion_texto\n",
        "    },\n",
        "    \"pronostico_horas\": {}\n",
        "}\n",
        "\n",
        "# Agregar el pronóstico de temperatura para las próximas 6 horas\n",
        "for i in range(6):\n",
        "    clima_info[\"pronostico_horas\"][f\"Hora {i+1}\"] = clima_data[\"hourly\"][\"temperature_2m\"][i]\n",
        "\n",
        "# Imprimir el diccionario de manera ordenada\n",
        "import json\n",
        "print(json.dumps(clima_info, indent=4, ensure_ascii=False))\n"
      ]
    }
  ],
  "metadata": {
    "colab": {
      "provenance": []
    },
    "kernelspec": {
      "display_name": "Python 3",
      "name": "python3"
    },
    "language_info": {
      "codemirror_mode": {
        "name": "ipython",
        "version": 3
      },
      "file_extension": ".py",
      "mimetype": "text/x-python",
      "name": "python",
      "nbconvert_exporter": "python",
      "pygments_lexer": "ipython3",
      "version": "3.13.2"
    }
  },
  "nbformat": 4,
  "nbformat_minor": 0
}
