{
  "cells": [
    {
      "cell_type": "code",
      "execution_count": 1,
      "metadata": {
        "colab": {
          "base_uri": "https://localhost:8080/"
        },
        "id": "QicE_eJvLiUY",
        "outputId": "b5ec8b3b-28da-4303-c6fe-b44b0e89626d"
      },
      "outputs": [
        {
          "name": "stdout",
          "output_type": "stream",
          "text": [
            "Requirement already satisfied: requests in c:\\users\\julir\\appdata\\local\\programs\\python\\python313\\lib\\site-packages (2.32.3)\n",
            "Requirement already satisfied: charset-normalizer<4,>=2 in c:\\users\\julir\\appdata\\local\\programs\\python\\python313\\lib\\site-packages (from requests) (3.4.1)\n",
            "Requirement already satisfied: idna<4,>=2.5 in c:\\users\\julir\\appdata\\local\\programs\\python\\python313\\lib\\site-packages (from requests) (3.10)\n",
            "Requirement already satisfied: urllib3<3,>=1.21.1 in c:\\users\\julir\\appdata\\local\\programs\\python\\python313\\lib\\site-packages (from requests) (2.3.0)\n",
            "Requirement already satisfied: certifi>=2017.4.17 in c:\\users\\julir\\appdata\\local\\programs\\python\\python313\\lib\\site-packages (from requests) (2025.1.31)\n"
          ]
        },
        {
          "name": "stderr",
          "output_type": "stream",
          "text": [
            "\n",
            "[notice] A new release of pip is available: 24.3.1 -> 25.0.1\n",
            "[notice] To update, run: python.exe -m pip install --upgrade pip\n"
          ]
        }
      ],
      "source": [
        "!pip install requests"
      ]
    },
    {
      "cell_type": "code",
      "execution_count": null,
      "metadata": {
        "colab": {
          "base_uri": "https://localhost:8080/"
        },
        "id": "l9gdo3AgK2MQ",
        "outputId": "6b72f864-9056-4f8a-bdf8-da986e2c04d3"
      },
      "outputs": [
        {
          "name": "stdout",
          "output_type": "stream",
          "text": [
            "{'bitcoin': {'usd': 81576}}\n"
          ]
        }
      ],
      "source": [
        "import requests\n",
        "url = \"https://api.coingecko.com/api/v3/simple/price\"\n",
        "params = {\"ids\":\"bitcoin\",\"vs_currencies\":\"usd\"}\n",
        "response = requests.get(url,params=params)\n",
        "data = response.json()\n",
        "print(data)"
      ]
    },
    {
      "cell_type": "code",
      "execution_count": null,
      "metadata": {
        "colab": {
          "base_uri": "https://localhost:8080/"
        },
        "id": "HRLqj0cYMuj4",
        "outputId": "50b3c66e-34f5-4426-a595-26748ed16dce"
      },
      "outputs": [
        {
          "name": "stdout",
          "output_type": "stream",
          "text": [
            "429\n",
            "Error: 429\n"
          ]
        }
      ],
      "source": [
        "response = requests.get(url, params = params)\n",
        "print(response.status_code)\n",
        "if response.status_code == 200:\n",
        "  data = response.json()\n",
        "  print(data)\n",
        "else:\n",
        "  print(\"Error:\",response.status_code)"
      ]
    },
    {
      "cell_type": "code",
      "execution_count": null,
      "metadata": {
        "colab": {
          "base_uri": "https://localhost:8080/"
        },
        "id": "ZyXhcfUGNtnw",
        "outputId": "14553af0-ca1f-4f89-9008-b7957611dc30"
      },
      "outputs": [
        {
          "name": "stdout",
          "output_type": "stream",
          "text": [
            "{'login': 'juliram81', 'id': 129083026, 'node_id': 'U_kgDOB7Gmkg', 'avatar_url': 'https://avatars.githubusercontent.com/u/129083026?v=4', 'gravatar_id': '', 'url': 'https://api.github.com/users/juliram81', 'html_url': 'https://github.com/juliram81', 'followers_url': 'https://api.github.com/users/juliram81/followers', 'following_url': 'https://api.github.com/users/juliram81/following{/other_user}', 'gists_url': 'https://api.github.com/users/juliram81/gists{/gist_id}', 'starred_url': 'https://api.github.com/users/juliram81/starred{/owner}{/repo}', 'subscriptions_url': 'https://api.github.com/users/juliram81/subscriptions', 'organizations_url': 'https://api.github.com/users/juliram81/orgs', 'repos_url': 'https://api.github.com/users/juliram81/repos', 'events_url': 'https://api.github.com/users/juliram81/events{/privacy}', 'received_events_url': 'https://api.github.com/users/juliram81/received_events', 'type': 'User', 'user_view_type': 'public', 'site_admin': False, 'name': None, 'company': None, 'blog': '', 'location': None, 'email': None, 'hireable': None, 'bio': None, 'twitter_username': None, 'public_repos': 4, 'public_gists': 0, 'followers': 0, 'following': 0, 'created_at': '2023-03-27T14:36:57Z', 'updated_at': '2025-02-28T01:53:42Z'}\n",
            "200\n",
            "Usuarios: juliram81\n",
            "         Repos públicos: 4\n",
            "         url: https://github.com/juliram81\n"
          ]
        }
      ],
      "source": [
        "import requests\n",
        "username = \"juliram81\"\n",
        "url = f\"https://api.github.com/users/{username}\"\n",
        "response = requests.get(url)\n",
        "data = response.json()\n",
        "print(data)\n",
        "print(response.status_code)\n",
        "if response.status_code == 200:\n",
        "  print(f\"\"\"Usuarios: {data['login']}\n",
        "         Repos públicos: {data['public_repos']}\n",
        "         url: {data['html_url']}\"\"\")\n",
        "else:\n",
        "  print(\"Error:\",response.status_code)\n",
        "\n"
      ]
    },
    {
      "cell_type": "code",
      "execution_count": null,
      "metadata": {
        "colab": {
          "base_uri": "https://localhost:8080/"
        },
        "id": "Ecf6lTZcR-56",
        "outputId": "4fed4131-4f9a-46e1-ee04-7c84dcd191ca"
      },
      "outputs": [
        {
          "name": "stdout",
          "output_type": "stream",
          "text": [
            "QR code generado exitosamente\n"
          ]
        }
      ],
      "source": [
        "import requests\n",
        "\n",
        "text = \"https://github.com/juliram81\"\n",
        "url = f\"https://api.qrserver.com/v1/create-qr-code/?size=150x150&data={text}\"\n",
        "\n",
        "response = requests.get(url)\n",
        "if response.status_code == 200:\n",
        "  with open(\"qr_code2.png\",\"wb\") as f:\n",
        "    f.write(response.content)\n",
        "    print(\"QR code generado exitosamente\")\n",
        "else:\n",
        "  print(\"Error:\",response.status_code)\n"
      ]
    },
    {
      "cell_type": "code",
      "execution_count": null,
      "metadata": {
        "colab": {
          "base_uri": "https://localhost:8080/"
        },
        "id": "GhQ6zrIZT5py",
        "outputId": "eef97279-7528-40aa-e813-9e710de77f5b"
      },
      "outputs": [],
      "source": [
        "import requests\n",
        "dic_user = {\"Usuario\":\"value1\"}\n",
        "var = input(\"Ingrese su usuario \")\n",
        "dic_user[\"Usuario\"] = var\n",
        "username = dic_user[\"Usuario\"]\n",
        "print(var)\n",
        "url = f\"https://api.github.com/users/{var}\"\n",
        "response = requests.get(url)\n",
        "data = response.json()\n",
        "print(data)\n",
        "print(response.status_code)\n",
        "if response.status_code == 200:\n",
        "  print(f\"\"\"Usuarios: {data['login']}\n",
        "         Repos públicos: {data['public_repos']}\n",
        "         url: {data['html_url']}\"\"\")\n",
        "else:\n",
        "  print(\"Error:\",response.status_code)\n",
        "\n",
        "\n",
        "text = data['html_url']\n",
        "url = f\"https://api.qrserver.com/v1/create-qr-code/?size=150x150&data={text}\"\n",
        "\n",
        "response = requests.get(url)\n",
        "if response.status_code == 200:\n",
        "  with open(\"qr_code5.png\",\"wb\") as f:\n",
        "    f.write(response.content)\n",
        "    print(\"QR code generado exitosamente\")\n",
        "else:\n",
        "  print(\"Error:\",response.status_code)\n"
      ]
    }
  ],
  "metadata": {
    "colab": {
      "provenance": []
    },
    "kernelspec": {
      "display_name": "Python 3",
      "name": "python3"
    },
    "language_info": {
      "codemirror_mode": {
        "name": "ipython",
        "version": 3
      },
      "file_extension": ".py",
      "mimetype": "text/x-python",
      "name": "python",
      "nbconvert_exporter": "python",
      "pygments_lexer": "ipython3",
      "version": "3.13.2"
    }
  },
  "nbformat": 4,
  "nbformat_minor": 0
}
